{
 "cells": [
  {
   "cell_type": "markdown",
   "metadata": {},
   "source": [
    "# The Admin Concierge\n",
    "Use this interface to build a JSON file representing a set of PyRACF operations.  Import the resulting\n",
    "file into the Admin engine to perform the operations described by JSON file."
   ]
  },
  {
   "cell_type": "code",
   "execution_count": 2,
   "metadata": {},
   "outputs": [],
   "source": [
    "import ipywidgets as widgets\n",
    "import os, random, string, json\n",
    "\n",
    "# The complete request batch in json form.  Make a file picker for this eventually.\n",
    "req_batch = './requests/full_universe_build.json'\n",
    "\n",
    "# Dictionaries, lists, and other data structures representing the admin request(s).\n",
    "beings = {}\n",
    "groups = {}\n",
    "forces = {}\n",
    "droids = []\n",
    "species = []\n",
    "vehicles = []\n",
    "weapons = []\n",
    "planets = []\n"
   ]
  },
  {
   "cell_type": "markdown",
   "metadata": {},
   "source": [
    "------\n",
    "## User Definitions"
   ]
  },
  {
   "cell_type": "code",
   "execution_count": 3,
   "metadata": {},
   "outputs": [
    {
     "data": {
      "application/vnd.jupyter.widget-view+json": {
       "model_id": "6e7e520c5a1641808619d1722810c083",
       "version_major": 2,
       "version_minor": 0
      },
      "text/plain": [
       "VBox(children=(HBox(children=(Text(value='', description='Userid', placeholder='required'), Text(value='', des…"
      ]
     },
     "metadata": {},
     "output_type": "display_data"
    },
    {
     "data": {
      "application/vnd.jupyter.widget-view+json": {
       "model_id": "57dc4b2bfdd44528b26b74e20fa838a0",
       "version_major": 2,
       "version_minor": 0
      },
      "text/plain": [
       "VBox(children=(HBox(children=(Checkbox(value=False, description='Special'), Checkbox(value=False, description=…"
      ]
     },
     "metadata": {},
     "output_type": "display_data"
    },
    {
     "name": "stdout",
     "output_type": "stream",
     "text": [
      "Error - please specify a userid.\n",
      "Userid: Bubba,   name: Joe Bubba\n",
      "Attributes:\n",
      "   special   TSO\n"
     ]
    }
   ],
   "source": [
    "# Build fields for defining a user.\n",
    "user_id = widgets.Text(description='Userid', placeholder='required' )\n",
    "user_name = widgets.Text(description='User Name\\'s', placeholder='required')\n",
    "attr_special = widgets.Checkbox(description='Special')\n",
    "attr_operations = widgets.Checkbox(description=\"Operations\")\n",
    "attr_omvs = widgets.Checkbox(description=\"z/OS Unix\")\n",
    "attr_tso = widgets.Checkbox(description=\"TSO\")\n",
    "\n",
    "# Create a push button to add the user.\n",
    "pb = widgets.Button(\n",
    "    description='Create User',\n",
    "    disabled=False,\n",
    "    button_style='', # 'success', 'info', 'warning', 'danger' or ''\n",
    "    tooltip='Click to create a user'\n",
    ")\n",
    "\n",
    "# Required fields\n",
    "required_fields = widgets.VBox([widgets.HBox([user_id, user_name])])\n",
    "\n",
    "# Create check boxes for the attribute fields. \n",
    "checkboxes = widgets.VBox([widgets.HBox([attr_special, attr_operations]),\n",
    "                           widgets.HBox([attr_omvs, attr_tso]),\n",
    "                           pb])\n",
    "\n",
    "# The event handler that gets control when the user pushes the go button.\n",
    "def on_button_click(b):\n",
    "    if (user_id.value == ''):\n",
    "        print('Error - please specify a userid.')\n",
    "        return\n",
    "    if (user_name.value == ''):\n",
    "        print('Error - please specify a user name.')\n",
    "        return\n",
    "    \n",
    "    print('Userid: %s,   name: %s' % (user_id.value, user_name.value))\n",
    "    print('Attributes:')\n",
    "    attrs = '   '\n",
    "    if (attr_special.value):\n",
    "        attrs += 'special   '\n",
    "    if (attr_operations.value):\n",
    "        attrs += 'operations   '\n",
    "    if (attr_omvs.value):\n",
    "        attrs += 'z/OS Unix   '\n",
    "    if (attr_tso.value):\n",
    "        attrs += 'TSO'\n",
    "    if (attrs != ''):\n",
    "        print(attrs)\n",
    "\n",
    "# Display the form and wait for a response.\n",
    "display(required_fields, checkboxes)\n",
    "pb.on_click(on_button_click)\n"
   ]
  },
  {
   "cell_type": "markdown",
   "metadata": {},
   "source": [
    "------\n",
    "## Group Definitions"
   ]
  },
  {
   "cell_type": "markdown",
   "metadata": {},
   "source": [
    "------\n",
    "## Force Definitions"
   ]
  }
 ],
 "metadata": {
  "kernelspec": {
   "display_name": "Python 3",
   "language": "python",
   "name": "python3"
  },
  "language_info": {
   "codemirror_mode": {
    "name": "ipython",
    "version": 3
   },
   "file_extension": ".py",
   "mimetype": "text/x-python",
   "name": "python",
   "nbconvert_exporter": "python",
   "pygments_lexer": "ipython3",
   "version": "3.11.3"
  }
 },
 "nbformat": 4,
 "nbformat_minor": 2
}
