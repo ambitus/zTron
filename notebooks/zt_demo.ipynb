{
 "cells": [
  {
   "cell_type": "markdown",
   "metadata": {},
   "source": [
    "![zTron Logo](./images/zTron_logo.jpg)\n",
    "_**Pre-reqs**_\n",
    "A pip environment with\n",
    "- python 3.11 or later\n",
    "- notebook\n",
    "- pyyaml\n",
    "\n",
    "Set ```PATH``` and ```PYTHONPATH``` to include the location of the zTron code\n",
    "\n",
    "_**Notebook Use:**_\n",
    "- Use ```~/.jupyter/jupyter_notebook_config.py``` to set your IP, port, and other default notebook settings\n",
    "- navigate to the directory with your zTron notebook\n",
    "- ```jupyter notebook```\n",
    "\n",
    "_**CLI Use**_\n",
    "- ```ztron -p <pipeline path> -c <config path> -l <log level>```"
   ]
  },
  {
   "cell_type": "markdown",
   "metadata": {},
   "source": [
    "-----\n",
    "### Specify Arguments\n",
    "MCP takes 3 arguments, besides the name of zTron itself:\n",
    "- Path to the pipeline YAML file\n",
    "- Path to the configuration YAML file\n",
    "- The logging level (trace, info, warn, err)"
   ]
  },
  {
   "cell_type": "code",
   "execution_count": null,
   "metadata": {
    "scrolled": true
   },
   "outputs": [],
   "source": [
    "from ztron import Mcp\n",
    "from ztron import log_info, log_warn, log_err, log_trc\n",
    "\n",
    "mcp = Mcp(['zTron', \n",
    "           '../test/zt_demo_pipeline.yaml', \n",
    "           '../test/zt_demo_config.yaml', \n",
    "           'info'])"
   ]
  },
  {
   "cell_type": "code",
   "execution_count": null,
   "metadata": {},
   "outputs": [],
   "source": [
    "mcp.run_pipeline()\n",
    "# mcp.run_stages()"
   ]
  },
  {
   "cell_type": "code",
   "execution_count": null,
   "metadata": {},
   "outputs": [],
   "source": [
    "mcp.finish()"
   ]
  }
 ],
 "metadata": {
  "kernelspec": {
   "display_name": "Python 3",
   "language": "python",
   "name": "python3"
  },
  "language_info": {
   "codemirror_mode": {
    "name": "ipython",
    "version": 3
   },
   "file_extension": ".py",
   "mimetype": "text/x-python",
   "name": "python",
   "nbconvert_exporter": "python",
   "pygments_lexer": "ipython3",
   "version": "3.7.0"
  }
 },
 "nbformat": 4,
 "nbformat_minor": 2
}
