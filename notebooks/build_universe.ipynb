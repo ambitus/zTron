{
 "cells": [
  {
   "cell_type": "markdown",
   "metadata": {},
   "source": []
  },
  {
   "cell_type": "code",
   "execution_count": 20,
   "metadata": {},
   "outputs": [
    {
     "data": {
      "application/vnd.jupyter.widget-view+json": {
       "model_id": "5801cf0fe1824a5883ae14d0ef142233",
       "version_major": 2,
       "version_minor": 0
      },
      "text/plain": [
       "VBox(children=(HBox(children=(Checkbox(value=False, description='cb1'), Checkbox(value=False, description='cb2…"
      ]
     },
     "metadata": {},
     "output_type": "display_data"
    },
    {
     "name": "stdout",
     "output_type": "stream",
     "text": [
      "clicked on: Button(description='Click me', style=ButtonStyle(), tooltip='Click me')\n",
      "cb1: True\n",
      "cb2: False\n",
      "cb3: False\n",
      "cb4: True\n"
     ]
    }
   ],
   "source": [
    "import ipywidgets as widgets\n",
    "\n",
    "cb1 = widgets.Checkbox(description=\"cb1\")\n",
    "cb2 = widgets.Checkbox(description=\"cb2\")\n",
    "cb3 = widgets.Checkbox(description=\"cb3\")\n",
    "cb4 = widgets.Checkbox(description=\"cb4\")\n",
    "\n",
    "pb = widgets.Button(\n",
    "    description='Click me',\n",
    "    disabled=False,\n",
    "    button_style='', # 'success', 'info', 'warning', 'danger' or ''\n",
    "    tooltip='Click me',\n",
    ")\n",
    "\n",
    "def on_button_clicked(b):\n",
    "    print(\"clicked on:\",b)\n",
    "    print(\"cb1:\", cb1.value)\n",
    "    print(\"cb2:\", cb2.value)\n",
    "    print(\"cb3:\", cb3.value)\n",
    "    print(\"cb4:\", cb4.value)\n",
    "\n",
    "pb.on_click(on_button_clicked)\n",
    "\n",
    "ui = widgets.VBox([widgets.HBox([cb1, cb2]), widgets.HBox([cb3, cb4]),pb])\n",
    "\n",
    "display(ui)"
   ]
  },
  {
   "cell_type": "code",
   "execution_count": null,
   "metadata": {},
   "outputs": [],
   "source": []
  },
  {
   "cell_type": "code",
   "execution_count": null,
   "metadata": {},
   "outputs": [],
   "source": [
    "# Frank's original\n",
    "user_id = widgets.Text(\n",
    "    value='IBMUSER',\n",
    "    placeholder='Enter a Userid',\n",
    "    description='Userid:',\n",
    "    disabled=False   \n",
    ")\n",
    "user_name = widgets.Text(\n",
    "    value='John Q Public',\n",
    "    placeholder='Enter Users Name',\n",
    "    description='Users Name:',\n",
    "    disabled=False   \n",
    ")\n",
    "\n",
    "need_special = widgets.Checkbox()\n",
    "need_special.description=\"Special\"\n",
    "need_operations = widgets.Checkbox(description=\"Operations\")\n",
    "need_omvs = widgets.Checkbox(description=\"z/OS Unix\")\n",
    "need_tso = widgets.Checkbox(description=\"TSO\")\n",
    "pb = widgets.Button(\n",
    "    description='Create User',\n",
    "    disabled=False,\n",
    "    button_style='', # 'success', 'info', 'warning', 'danger' or ''\n",
    "    tooltip='Do it!',\n",
    ")\n",
    "\n",
    "def(on_button_clock(b):\n",
    "    )\n",
    "display(user_name,user_id,need_special,need_operations,need_omvs,need_tso,pb)\n",
    "\n",
    "pb.on_click(onclick(user_id.value,user_name.value,need_special.value,need_operations.value,need_omvs.value,need_tso.value))"
   ]
  },
  {
   "cell_type": "code",
   "execution_count": 34,
   "metadata": {},
   "outputs": [
    {
     "data": {
      "application/vnd.jupyter.widget-view+json": {
       "model_id": "b31e570b8f454e45a94f451cf8976111",
       "version_major": 2,
       "version_minor": 0
      },
      "text/plain": [
       "VBox(children=(HBox(children=(Text(value='', description='Userid', placeholder='required'), Text(value='', des…"
      ]
     },
     "metadata": {},
     "output_type": "display_data"
    },
    {
     "data": {
      "application/vnd.jupyter.widget-view+json": {
       "model_id": "c0ff532d67114729a1b91858ebff2947",
       "version_major": 2,
       "version_minor": 0
      },
      "text/plain": [
       "VBox(children=(HBox(children=(Checkbox(value=False, description='Special'), Checkbox(value=False, description=…"
      ]
     },
     "metadata": {},
     "output_type": "display_data"
    },
    {
     "name": "stdout",
     "output_type": "stream",
     "text": [
      "Error - please specify a userid.\n",
      "Userid: LUKE,   name: Luke Sky\n",
      "Attributes:\n",
      "   special   z/OS Unix   \n"
     ]
    }
   ],
   "source": [
    "# Build fields for defining a user.\n",
    "user_id = widgets.Text(description='Userid', placeholder='required' )\n",
    "user_name = widgets.Text(description='User Name\\'s', placeholder='required')\n",
    "attr_special = widgets.Checkbox(description='Special')\n",
    "attr_operations = widgets.Checkbox(description=\"Operations\")\n",
    "attr_omvs = widgets.Checkbox(description=\"z/OS Unix\")\n",
    "attr_tso = widgets.Checkbox(description=\"TSO\")\n",
    "\n",
    "# Create a push button to add the user.\n",
    "pb = widgets.Button(\n",
    "    description='Create User',\n",
    "    disabled=False,\n",
    "    button_style='', # 'success', 'info', 'warning', 'danger' or ''\n",
    "    tooltip='Click to create a user'\n",
    ")\n",
    "\n",
    "# Required fields\n",
    "required_fields = widgets.VBox([widgets.HBox([user_id, user_name])])\n",
    "\n",
    "# Create check boxes for the attribute fields. \n",
    "checkboxes = widgets.VBox([widgets.HBox([attr_special, attr_operations]),\n",
    "                           widgets.HBox([attr_omvs, attr_tso]),\n",
    "                           pb])\n",
    "\n",
    "# The event handler that gets control when the user pushes the go button.\n",
    "def on_button_click(b):\n",
    "    if (user_id.value == ''):\n",
    "        print('Error - please specify a userid.')\n",
    "        return\n",
    "    if (user_name.value == ''):\n",
    "        print('Error - please specify a user name.')\n",
    "        return\n",
    "    \n",
    "    print('Userid: %s,   name: %s' % (user_id.value, user_name.value))\n",
    "    print('Attributes:')\n",
    "    attrs = '   '\n",
    "    if (attr_special.value):\n",
    "        attrs += 'special   '\n",
    "    if (attr_operations.value):\n",
    "        attrs += 'operations   '\n",
    "    if (attr_omvs.value):\n",
    "        attrs += 'z/OS Unix   '\n",
    "    if (attr_tso.value):\n",
    "        attrs += 'TSO'\n",
    "    if (attrs != ''):\n",
    "        print(attrs)\n",
    "\n",
    "# Display the form and wait for a response.\n",
    "display(required_fields, checkboxes)\n",
    "pb.on_click(on_button_click)\n"
   ]
  }
 ],
 "metadata": {
  "kernelspec": {
   "display_name": "Python 3",
   "language": "python",
   "name": "python3"
  },
  "language_info": {
   "codemirror_mode": {
    "name": "ipython",
    "version": 3
   },
   "file_extension": ".py",
   "mimetype": "text/x-python",
   "name": "python",
   "nbconvert_exporter": "python",
   "pygments_lexer": "ipython3",
   "version": "3.11.3"
  }
 },
 "nbformat": 4,
 "nbformat_minor": 2
}
